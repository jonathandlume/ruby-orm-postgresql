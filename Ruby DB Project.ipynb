{
 "cells": [
  {
   "cell_type": "markdown",
   "id": "8cc206d4-e8a4-42f7-bf90-1f1bf42ec4cb",
   "metadata": {},
   "source": [
    "# Title: Step-by-Step Guide an PostgreSQL ORM in Ruby"
   ]
  },
  {
   "cell_type": "markdown",
   "id": "3710ff9a-e299-4e84-97df-e351747d7c36",
   "metadata": {},
   "source": [
    "This guide assumes you are familiar with GitHub and basic command-line operations."
   ]
  },
  {
   "cell_type": "markdown",
   "id": "749cca2d-6bb0-441a-b26c-abe63d6aa5ae",
   "metadata": {},
   "source": [
    "## Step 1: Verify Ruby and Bundler Versions\n",
    "### 1. Open a terminal or PowerShell in JupyterLab or your local environment.\n",
    "\n",
    "### 2. Run the following commands to check your Ruby and Bundler versions:"
   ]
  },
  {
   "cell_type": "raw",
   "id": "a5373b69-8af3-45d6-aafc-2cd4b1bfaaf2",
   "metadata": {},
   "source": [
    "```sh\n",
    "ruby -v\n",
    "bundler -v"
   ]
  },
  {
   "cell_type": "markdown",
   "id": "735a9688-6b8e-4c48-ad56-33378713b12b",
   "metadata": {},
   "source": [
    "## Step 2: Create the Gemfile\n",
    "### 1. In a JupyterLab code cell or any editor, create a new file named Gemfile "
   ]
  },
  {
   "cell_type": "code",
   "execution_count": 6,
   "id": "6204d452-9c6b-4c3a-874c-c03b2987b13b",
   "metadata": {},
   "outputs": [
    {
     "data": {
      "text/plain": [
       "72"
      ]
     },
     "execution_count": 6,
     "metadata": {},
     "output_type": "execute_result"
    }
   ],
   "source": [
    "File.open(\"Gemfile\", \"w\") do |file|\n",
    "  file.write <<~GEMFILE\n",
    "    source 'https://rubygems.org'\n",
    "    gem 'pg'\n",
    "    gem 'dotenv'\n",
    "    gem 'activesupport'\n",
    "  GEMFILE\n",
    "end"
   ]
  },
  {
   "cell_type": "markdown",
   "id": "d59e8720-6f9e-4c38-b79a-289560e74f76",
   "metadata": {},
   "source": [
    "### 2. Save this file in your project directory."
   ]
  },
  {
   "cell_type": "markdown",
   "id": "124bd28f-9df9-4dc7-9fe3-3481d3c4cb84",
   "metadata": {},
   "source": [
    "## Step 3: Install Gems and Set Up Database\n",
    "### 1. Open a terminal or PowerShell and navigate to your project directory. Replace \"path/to/gemfile\" with the actual path to your Gemfile if necessary:"
   ]
  },
  {
   "cell_type": "raw",
   "id": "5a455e5e-275e-4a98-8e7c-baafd57ef633",
   "metadata": {},
   "source": [
    "```bash\n",
    "bundle install --gemfile=\"path/to/gemfile\""
   ]
  },
  {
   "cell_type": "markdown",
   "id": "e2cbad1a-6d93-485f-a8e3-f9911b12f968",
   "metadata": {},
   "source": [
    "### 2. Install the pg gem if not already installed:"
   ]
  },
  {
   "cell_type": "raw",
   "id": "0efd333d-2d52-4d6a-a4d0-191a4f4a712d",
   "metadata": {},
   "source": [
    "```sh\n",
    "gem install pg"
   ]
  },
  {
   "cell_type": "markdown",
   "id": "c1569c4d-44c8-41fd-aaf9-c589576d60e8",
   "metadata": {},
   "source": [
    "### 3. Ensure your environment variables are set. You can set them in PowerShell as follows:"
   ]
  },
  {
   "cell_type": "raw",
   "id": "dbb622ae-91b6-4212-aaa4-fa5242827778",
   "metadata": {},
   "source": [
    "```sh\n",
    "# Ensure DB_NAME is set to postgres\n",
    "$env:DB_NAME = \"my_db_name\"\n",
    "\n",
    "# Output environment variables for verification\n",
    "Write-Output \"DB_USERNAME: $($env:DB_USERNAME)\"\n",
    "Write-Output \"DB_PASSWORD: $($env:DB_PASSWORD)\"\n",
    "Write-Output \"DB_NAME: $($env:DB_NAME)\""
   ]
  },
  {
   "cell_type": "markdown",
   "id": "d5d3d7b8-6344-4c85-946e-7708120a4f8f",
   "metadata": {},
   "source": [
    "Replace your_db_username, your_db_password, and your_db_name with your actual database credentials."
   ]
  },
  {
   "cell_type": "markdown",
   "id": "7ba81c5a-6fcd-4495-b78b-afa2fe26cafb",
   "metadata": {},
   "source": [
    "### 4. Export PGPASSWORD to avoid being prompted for the password:"
   ]
  },
  {
   "cell_type": "raw",
   "id": "ef94e6f8-dfad-4a56-ba2a-0676738e4a45",
   "metadata": {},
   "source": [
    "```sh\n",
    "$env:PGPASSWORD = $env:DB_PASSWORD"
   ]
  },
  {
   "cell_type": "markdown",
   "id": "62beb646-d95a-49c5-a7e1-6ea79d7b87e3",
   "metadata": {},
   "source": [
    "### 5. Define your schema name and create the schema in PostgreSQL:"
   ]
  },
  {
   "cell_type": "raw",
   "id": "b8385b71-b4c8-4e08-a928-096cccab811b",
   "metadata": {},
   "source": [
    "```sh\n",
    "$SCHEMA_NAME = \"my_schema_name\"\n",
    "\n",
    "psql -U $env:DB_USERNAME -h localhost -d $env:DB_NAME -c \"CREATE SCHEMA IF NOT EXISTS $SCHEMA_NAME;\""
   ]
  },
  {
   "cell_type": "markdown",
   "id": "c4442596-c990-4245-943e-208a2d65c8c7",
   "metadata": {},
   "source": [
    "### 6. Grant all privileges on the new schema to the user:"
   ]
  },
  {
   "cell_type": "raw",
   "id": "8b8b894c-76b0-4df4-9616-a181758ba920",
   "metadata": {},
   "source": [
    "```sh\n",
    "psql -U $env:DB_USERNAME -h localhost -d $env:DB_NAME -c \"GRANT ALL PRIVILEGES ON SCHEMA $SCHEMA_NAME TO $env:DB_USERNAME;\""
   ]
  },
  {
   "cell_type": "markdown",
   "id": "3d2efc00-e29b-48a4-b30b-677201324e56",
   "metadata": {},
   "source": [
    "### 7. List schemas to verify:"
   ]
  },
  {
   "cell_type": "raw",
   "id": "cdf0722b-ac7b-4cc4-9aa0-c3f75f138820",
   "metadata": {},
   "source": [
    "```sh\n",
    "psql -U $env:DB_USERNAME -h localhost -d $env:DB_NAME -c \"\\dn\""
   ]
  },
  {
   "cell_type": "markdown",
   "id": "e6f495cc-2f22-46fa-aabc-1fe1cb51d1d8",
   "metadata": {},
   "source": [
    "## Step 4: Create Ruby Files"
   ]
  },
  {
   "cell_type": "markdown",
   "id": "62a1a14f-61da-40b6-9bfc-a9cbf24eac76",
   "metadata": {},
   "source": [
    "### 1. Create orm.rb:"
   ]
  },
  {
   "cell_type": "markdown",
   "id": "ad9362ef-d9d6-49b8-bd17-8fbdf19c3140",
   "metadata": {},
   "source": [
    "In your project directory, create a file named orm.rb with the following content in notepad++ ensuring the extention is \"*.rb\":"
   ]
  },
  {
   "cell_type": "raw",
   "id": "4d4e4b7d-a5be-406c-81c0-515d698d8bee",
   "metadata": {},
   "source": [
    "require 'pg'\n",
    "require 'active_support/inflector'\n",
    "require 'dotenv/load'\n",
    "\n",
    "class ORM\n",
    "  SCHEMA_NAME = 'my_schema_name'  # Hardcoded schema name\n",
    "\n",
    "  def self.connect_to_db\n",
    "    db_username = ENV['DB_USERNAME']\n",
    "    db_password = ENV['DB_PASSWORD']\n",
    "    db_name = ENV['DB_NAME'] || 'my_db_name'\n",
    "    db_host = ENV['DB_HOST'] || 'localhost'\n",
    "    db_port = ENV['DB_PORT'] || 5432\n",
    "\n",
    "    raise 'Environment variables DB_USERNAME, DB_PASSWORD must be set' if db_username.nil? || db_password.nil?\n",
    "\n",
    "    @database_connection ||= PG.connect(\n",
    "      dbname: db_name,\n",
    "      user: db_username,\n",
    "      password: db_password,\n",
    "      host: db_host,\n",
    "      port: db_port\n",
    "    )\n",
    "\n",
    "    @database_connection.exec(\"SET search_path TO #{SCHEMA_NAME};\")\n",
    "  end\n",
    "\n",
    "  def self.inherited(subclass)\n",
    "    subclass.instance_variable_set(:@table_name, subclass.name.tableize)\n",
    "    subclass.instance_variable_set(:@columns, [])\n",
    "    # Removed automatic table creation call\n",
    "  end\n",
    "\n",
    "  def self.table_name\n",
    "    @table_name\n",
    "  end\n",
    "\n",
    "  def self.columns\n",
    "    @columns\n",
    "  end\n",
    "\n",
    "  def self.database\n",
    "    connect_to_db\n",
    "    @database_connection\n",
    "  end\n",
    "\n",
    "  def self.create_table\n",
    "    columns_definition = self.columns.join(', ')\n",
    "    if columns_definition.empty?\n",
    "      raise \"Cannot create table #{table_name} without columns.\"\n",
    "    end\n",
    "    database.exec(\"CREATE TABLE IF NOT EXISTS #{table_name} (id SERIAL PRIMARY KEY, #{columns_definition})\")\n",
    "  end\n",
    "\n",
    "  def self.table_exists?\n",
    "    result = database.exec(\"SELECT EXISTS (SELECT 1 FROM information_schema.tables WHERE table_schema = '#{SCHEMA_NAME}' AND table_name = '#{table_name}')\")\n",
    "    result.getvalue(0, 0) == 't'\n",
    "  end\n",
    "\n",
    "  def self.column(name, type)\n",
    "    @columns << \"#{name} #{type.upcase}\"\n",
    "    attr_accessor name\n",
    "  end\n",
    "\n",
    "  def self.setup_table\n",
    "    create_table unless table_exists?\n",
    "  end\n",
    "end"
   ]
  },
  {
   "cell_type": "markdown",
   "id": "3ef316a1-a53b-4b79-b476-e31b20edd54b",
   "metadata": {},
   "source": [
    "### 2. Create models.rb:"
   ]
  },
  {
   "cell_type": "markdown",
   "id": "61e3c75b-72df-4e8a-b31e-91ce07497689",
   "metadata": {},
   "source": [
    "In your project directory, create a file named models.rb with the following content:"
   ]
  },
  {
   "cell_type": "raw",
   "id": "4e6eede7-78a8-4052-bac3-f462157e9e0c",
   "metadata": {},
   "source": [
    "require_relative 'orm'\n",
    "\n",
    "class User < ORM\n",
    "  column :name, 'TEXT'\n",
    "  column :email, 'TEXT'\n",
    "  \n",
    "  # Call setup_table to ensure the table is created\n",
    "  setup_table\n",
    "end"
   ]
  },
  {
   "cell_type": "markdown",
   "id": "fa1bd5be-4520-4d0e-b883-0ddfa68549c3",
   "metadata": {},
   "source": [
    "### 3. Create app.rb:"
   ]
  },
  {
   "cell_type": "markdown",
   "id": "5bee17a6-709c-4455-8488-900cffb4cbb8",
   "metadata": {},
   "source": [
    "In your project directory, create a file named app.rb with the following content:"
   ]
  },
  {
   "cell_type": "raw",
   "id": "7a6fae2e-ac29-4e34-b242-ed1aa50cdbd8",
   "metadata": {},
   "source": [
    "require_relative 'models'\n",
    "\n",
    "# Creating a new user\n",
    "user = User.new\n",
    "user.name = 'John Doe'\n",
    "user.email = 'john@example.com'\n",
    "\n",
    "# Save to database\n",
    "User.database.exec_params(\"INSERT INTO #{User.table_name} (name, email) VALUES ($1, $2)\", [user.name, user.email])\n",
    "\n",
    "# Fetching users\n",
    "result = User.database.exec(\"SELECT * FROM #{User.table_name}\")\n",
    "result.each do |row|\n",
    "  puts \"User ID: #{row['id']}, Name: #{row['name']}, Email: #{row['email']}\"\n",
    "end"
   ]
  },
  {
   "cell_type": "markdown",
   "id": "297d41bf-509d-416d-a447-68d4ce076973",
   "metadata": {},
   "source": [
    "## Step 5: Execute Ruby Scripts"
   ]
  },
  {
   "cell_type": "markdown",
   "id": "868977a2-f4f0-46e5-b4c6-60927fde38c6",
   "metadata": {},
   "source": [
    "### 1. Navigate to the directory containing your Ruby files:"
   ]
  },
  {
   "cell_type": "raw",
   "id": "75ce1e5b-adcd-415c-815f-37e931ab9d56",
   "metadata": {},
   "source": [
    "```sh\n",
    "Set-Location -Path \"path/to/rb_files\""
   ]
  },
  {
   "cell_type": "markdown",
   "id": "e045a03b-c414-426a-9f49-f2ad3d689578",
   "metadata": {},
   "source": [
    "### 2. Execute the orm.rb script:"
   ]
  },
  {
   "cell_type": "raw",
   "id": "da13b0e3-8bbd-4585-96b0-bf3133228c99",
   "metadata": {},
   "source": [
    "```sh\n",
    "bundle exec ruby orm.rb"
   ]
  },
  {
   "cell_type": "markdown",
   "id": "abe5bb89-9dd8-4151-b8bf-d8af89e6435d",
   "metadata": {},
   "source": [
    "### 3. Execute the models.rb script:"
   ]
  },
  {
   "cell_type": "raw",
   "id": "6f917e14-9de6-422f-9bfe-6bc077eb66c0",
   "metadata": {},
   "source": [
    "```sh\n",
    "bundle exec ruby models.rb"
   ]
  },
  {
   "cell_type": "markdown",
   "id": "cf534f4b-e2b7-4e00-9241-9d8fd127c48c",
   "metadata": {},
   "source": [
    "### 4. Execute the app.rb script:"
   ]
  },
  {
   "cell_type": "raw",
   "id": "6ef2763b-8bdd-494d-add0-65b6465c35cc",
   "metadata": {},
   "source": [
    "```sh\n",
    "bundle exec ruby app.rb"
   ]
  },
  {
   "cell_type": "markdown",
   "id": "98317281-c4eb-421a-b582-58e0decf2803",
   "metadata": {},
   "source": [
    "## Conclusion\n",
    "Congratulations! You’ve successfully set up a Ruby environment with PostgreSQL and ActiveSupport, and you've created a working example of an ORM in Ruby. By following these step-by-step instructions, you’ve learned how to configure your environment, create essential Ruby files, and execute scripts to interact with your database.\n",
    "\n",
    "Experiment with different models and methods to deepen your understanding of Ruby and ORM concepts. Try adding more features to your ORM or integrating additional gems to enhance your Ruby applications. With practice, you'll become adept at managing and manipulating data in your Ruby projects.\n",
    "\n",
    "Remember to regularly commit your changes to GitHub to keep track of your progress and share your work with others. For more detailed information and visual aids, explore the GitHub repository associated with this guide.\n",
    "\n",
    "Now, you’re ready to leverage Ruby and PostgreSQL to build powerful applications and explore the world of data management. Happy coding! 🚀💻"
   ]
  },
  {
   "cell_type": "markdown",
   "id": "f4f77d8b-66e2-4cc3-8771-1639c8e0b884",
   "metadata": {},
   "source": [
    "#### Note\n",
    "This guide is crafted for hands-on learners who enjoy learning through practical application. Each step should be followed in your terminal or development environment to experience the process firsthand. For additional details, visual aids, and troubleshooting tips, please refer to the GitHub repository linked to this guide."
   ]
  }
 ],
 "metadata": {
  "kernelspec": {
   "display_name": "Ruby 3 (Portable)",
   "language": "ruby",
   "name": "ruby3"
  },
  "language_info": {
   "file_extension": ".rb",
   "mimetype": "application/x-ruby",
   "name": "ruby",
   "version": "3.2.5"
  }
 },
 "nbformat": 4,
 "nbformat_minor": 5
}
